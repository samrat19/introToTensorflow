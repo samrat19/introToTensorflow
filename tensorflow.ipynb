{
  "nbformat": 4,
  "nbformat_minor": 0,
  "metadata": {
    "colab": {
      "name": "Untitled0.ipynb",
      "version": "0.3.2",
      "provenance": [],
      "collapsed_sections": [],
      "include_colab_link": true
    },
    "kernelspec": {
      "name": "python3",
      "display_name": "Python 3"
    }
  },
  "cells": [
    {
      "cell_type": "markdown",
      "metadata": {
        "id": "view-in-github",
        "colab_type": "text"
      },
      "source": [
        "<a href=\"https://colab.research.google.com/github/samrat19/introToTensorflow/blob/master/tensorflow.ipynb\" target=\"_parent\"><img src=\"https://colab.research.google.com/assets/colab-badge.svg\" alt=\"Open In Colab\"/></a>"
      ]
    },
    {
      "metadata": {
        "id": "1v6MbjbQTL1v",
        "colab_type": "text"
      },
      "cell_type": "markdown",
      "source": [
        "# Introduction to **Tensorflow**\n"
      ]
    },
    {
      "metadata": {
        "id": "_5QZ3mZWTaOV",
        "colab_type": "code",
        "colab": {}
      },
      "cell_type": "code",
      "source": [
        "import tensorflow as tf"
      ],
      "execution_count": 0,
      "outputs": []
    },
    {
      "metadata": {
        "id": "-bwmmqp9WBb7",
        "colab_type": "text"
      },
      "cell_type": "markdown",
      "source": [
        "# Print Hello World with Tensorflow\n",
        "\n"
      ]
    },
    {
      "metadata": {
        "id": "JlZ-tYoeViJb",
        "colab_type": "code",
        "outputId": "288ab1c4-1d41-4090-f345-25c39a3ce7b3",
        "colab": {
          "base_uri": "https://localhost:8080/",
          "height": 34
        }
      },
      "cell_type": "code",
      "source": [
        "hello = tf.constant(\"Hello World with Tensorflow\")\n",
        "session = tf.Session()\n",
        "print(session.run(hello))"
      ],
      "execution_count": 0,
      "outputs": [
        {
          "output_type": "stream",
          "text": [
            "b'Hello World with Tensorflow'\n"
          ],
          "name": "stdout"
        }
      ]
    },
    {
      "metadata": {
        "id": "pW-GqdZmXUja",
        "colab_type": "text"
      },
      "cell_type": "markdown",
      "source": [
        "# PlaceHolders and variables"
      ]
    },
    {
      "metadata": {
        "id": "0T1LX3i8XNDU",
        "colab_type": "code",
        "colab": {
          "base_uri": "https://localhost:8080/",
          "height": 35
        },
        "outputId": "8bfcba87-fbed-4018-fb0c-1ca91c67c289"
      },
      "cell_type": "code",
      "source": [
        "input1 = tf.placeholder('float',name=\"input1\")\n",
        "input2 = tf.placeholder('float',name=\"input2\")\n",
        "x = tf.Variable(0,dtype='float')\n",
        "\n",
        "x = input1 + input2 \n",
        "output = x * x\n",
        "session = tf.Session()\n",
        "print(session.run(output, feed_dict={input1: 3 , input2: 4}))"
      ],
      "execution_count": 22,
      "outputs": [
        {
          "output_type": "stream",
          "text": [
            "49.0\n"
          ],
          "name": "stdout"
        }
      ]
    },
    {
      "metadata": {
        "id": "BWNCYDk2bkZB",
        "colab_type": "code",
        "colab": {
          "base_uri": "https://localhost:8080/",
          "height": 35
        },
        "outputId": "25aad039-50e0-46cd-822a-ee22e6c7dd68"
      },
      "cell_type": "code",
      "source": [
        "input1 = tf.placeholder('float',[None,3],name=\"input1\")\n",
        "input2 = tf.placeholder('float',[None,3],name=\"input2\")\n",
        "output = tf.Variable(0,dtype='float')\n",
        "\n",
        "x = input1 + input2 \n",
        "output = x * x\n",
        "session = tf.Session()\n",
        "print(session.run(output, feed_dict={input1: [(1,4,3)] , input2: [(4,3,2)]}))"
      ],
      "execution_count": 23,
      "outputs": [
        {
          "output_type": "stream",
          "text": [
            "[[25. 49. 25.]]\n"
          ],
          "name": "stdout"
        }
      ]
    }
  ]
}