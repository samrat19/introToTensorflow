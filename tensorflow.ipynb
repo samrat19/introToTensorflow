{
  "nbformat": 4,
  "nbformat_minor": 0,
  "metadata": {
    "colab": {
      "name": "Untitled0.ipynb",
      "version": "0.3.2",
      "provenance": [],
      "collapsed_sections": [],
      "include_colab_link": true
    },
    "kernelspec": {
      "name": "python3",
      "display_name": "Python 3"
    }
  },
  "cells": [
    {
      "cell_type": "markdown",
      "metadata": {
        "id": "view-in-github",
        "colab_type": "text"
      },
      "source": [
        "<a href=\"https://colab.research.google.com/github/samrat19/introToTensorflow/blob/master/tensorflow.ipynb\" target=\"_parent\"><img src=\"https://colab.research.google.com/assets/colab-badge.svg\" alt=\"Open In Colab\"/></a>"
      ]
    },
    {
      "metadata": {
        "id": "1v6MbjbQTL1v",
        "colab_type": "text"
      },
      "cell_type": "markdown",
      "source": [
        "# Introduction to **Tensorflow**\n"
      ]
    },
    {
      "metadata": {
        "id": "_5QZ3mZWTaOV",
        "colab_type": "code",
        "colab": {}
      },
      "cell_type": "code",
      "source": [
        "import tensorflow as tf"
      ],
      "execution_count": 0,
      "outputs": []
    },
    {
      "metadata": {
        "id": "-bwmmqp9WBb7",
        "colab_type": "text"
      },
      "cell_type": "markdown",
      "source": [
        "# Print Hello World with Tensorflow\n",
        "\n"
      ]
    },
    {
      "metadata": {
        "id": "JlZ-tYoeViJb",
        "colab_type": "code",
        "colab": {
          "base_uri": "https://localhost:8080/",
          "height": 34
        },
        "outputId": "288ab1c4-1d41-4090-f345-25c39a3ce7b3"
      },
      "cell_type": "code",
      "source": [
        "hello = tf.constant(\"Hello World with Tensorflow\")\n",
        "session = tf.Session()\n",
        "print(session.run(hello))"
      ],
      "execution_count": 4,
      "outputs": [
        {
          "output_type": "stream",
          "text": [
            "b'Hello World with Tensorflow'\n"
          ],
          "name": "stdout"
        }
      ]
    }
  ]
}